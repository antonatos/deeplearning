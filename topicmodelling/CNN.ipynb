{
 "cells": [
  {
   "cell_type": "code",
   "execution_count": 88,
   "metadata": {},
   "outputs": [],
   "source": [
    "import numpy as np\n",
    "from keras.layers import Embedding\n",
    "from keras.layers import Dense, Input, Flatten, Reshape, Dropout, Concatenate\n",
    "from keras.layers import Conv1D, MaxPooling1D, Embedding, Conv2D, MaxPool2D\n",
    "from keras.models import Model\n",
    "from keras.callbacks import ModelCheckpoint\n",
    "\n",
    "from keras.preprocessing.text import Tokenizer\n",
    "from keras.preprocessing.sequence import pad_sequences\n",
    "from keras.utils.np_utils import to_categorical\n",
    "from keras.optimizers import Adam\n",
    "\n",
    "from sklearn.datasets import fetch_20newsgroups\n",
    "import pandas as pd\n",
    "import re\n",
    "\n",
    "import matplotlib.pyplot as plt\n",
    "plt.switch_backend('agg')\n",
    "%matplotlib inline"
   ]
  },
  {
   "cell_type": "code",
   "execution_count": 89,
   "metadata": {},
   "outputs": [],
   "source": [
    "MAX_SEQUENCE_LENGTH = 1000\n",
    "MAX_NB_WORDS = 20000\n",
    "EMBEDDING_DIM = 100\n",
    "VALIDATION_SPLIT = 0.2"
   ]
  },
  {
   "cell_type": "code",
   "execution_count": 90,
   "metadata": {},
   "outputs": [],
   "source": [
    "def load_embeddings(filename):\n",
    "    embeddings_index = {}\n",
    "    with open(filename,encoding='utf8') as f:\n",
    "        for line in f:\n",
    "            values = line.split()\n",
    "            word = values[0]\n",
    "            coefs = np.asarray(values[1:], dtype='float32')\n",
    "            embeddings_index[word] = coefs\n",
    "\n",
    "    print('Total %s word vectors in %s' % (len(embeddings_index), filename))\n",
    "    \n",
    "    return embeddings_index"
   ]
  },
  {
   "cell_type": "code",
   "execution_count": 91,
   "metadata": {},
   "outputs": [],
   "source": [
    "def create_embedding_layer(word_index, embeddings_index):\n",
    "    embedding_matrix = np.random.random((len(word_index) + 1, EMBEDDING_DIM))\n",
    "    \n",
    "    for word, i in word_index.items():\n",
    "        embedding_vector = embeddings_index.get(word)\n",
    "        if embedding_vector is not None:\n",
    "            # words not found in embedding index will be all-zeros.\n",
    "            embedding_matrix[i] = embedding_vector\n",
    "    \n",
    "    return Embedding(len(word_index) + 1, EMBEDDING_DIM, weights=[embedding_matrix],\n",
    "                                input_length=MAX_SEQUENCE_LENGTH,trainable=True)"
   ]
  },
  {
   "cell_type": "code",
   "execution_count": 92,
   "metadata": {},
   "outputs": [],
   "source": [
    "# def create_model(embedding_layer, macronum):\n",
    "#     sequence_input = Input(shape=(MAX_SEQUENCE_LENGTH,), dtype='int32')\n",
    "#     embedded_sequences = embedding_layer(sequence_input)\n",
    "#     l_cov1= Conv1D(128, 5, activation='relu')(embedded_sequences)\n",
    "#     l_pool1 = MaxPooling1D(5)(l_cov1)\n",
    "#     l_cov2 = Conv1D(128, 5, activation='relu')(l_pool1)\n",
    "#     l_pool2 = MaxPooling1D(5)(l_cov2)\n",
    "#     l_cov3 = Conv1D(128, 5, activation='relu')(l_pool2)\n",
    "#     l_pool3 = MaxPooling1D(35)(l_cov3)  # global max pooling\n",
    "#     l_flat = Flatten()(l_pool3)\n",
    "#     l_dense = Dense(128, activation='relu')(l_flat)\n",
    "#     preds = Dense(len(macronum), activation='softmax')(l_dense)\n",
    "    \n",
    "#     model = Model(sequence_input, preds)\n",
    "#     model.compile(loss='categorical_crossentropy',\n",
    "#               optimizer='rmsprop',\n",
    "#               metrics=['acc'])\n",
    "\n",
    "#     print(\"Simplified convolutional neural network\")\n",
    "#     model.summary()\n",
    "#     cp = ModelCheckpoint('model_cnn.hdf5',monitor='val_acc',verbose=1,save_best_only=True)\n",
    "#     return (model, cp)"
   ]
  },
  {
   "cell_type": "code",
   "execution_count": 105,
   "metadata": {},
   "outputs": [],
   "source": [
    "def create_model(embedding_layer, macronum):\n",
    "    filter_sizes = [2, 3, 5]\n",
    "    num_filters = 256\n",
    "    drop = 0.3\n",
    "    \n",
    "    MAX_LENGTH = MAX_SEQUENCE_LENGTH\n",
    "    \n",
    "    inputs = Input(shape=(MAX_LENGTH,), dtype='int32')\n",
    "    embedding = embedding_layer(inputs)\n",
    "\n",
    "    reshape = Reshape((MAX_LENGTH, EMBEDDING_DIM, 1))(embedding)\n",
    "    conv_0 = Conv2D(num_filters, \n",
    "                    kernel_size=(filter_sizes[0], EMBEDDING_DIM), \n",
    "                    padding='valid', kernel_initializer='normal', \n",
    "                    activation='relu')(reshape)\n",
    "\n",
    "    conv_1 = Conv2D(num_filters, \n",
    "                    kernel_size=(filter_sizes[1], EMBEDDING_DIM), \n",
    "                    padding='valid', kernel_initializer='normal', \n",
    "                    activation='relu')(reshape)\n",
    "    conv_2 = Conv2D(num_filters, \n",
    "                    kernel_size=(filter_sizes[2], EMBEDDING_DIM), \n",
    "                    padding='valid', kernel_initializer='normal', \n",
    "                    activation='relu')(reshape)\n",
    "\n",
    "    maxpool_0 = MaxPool2D(pool_size=(MAX_LENGTH - filter_sizes[0] + 1, 1), \n",
    "                          strides=(1,1), padding='valid')(conv_0)\n",
    "\n",
    "    maxpool_1 = MaxPool2D(pool_size=(MAX_LENGTH - filter_sizes[1] + 1, 1), \n",
    "                          strides=(1,1), padding='valid')(conv_1)\n",
    "\n",
    "    maxpool_2 = MaxPool2D(pool_size=(MAX_LENGTH - filter_sizes[2] + 1, 1), \n",
    "                          strides=(1,1), padding='valid')(conv_2)\n",
    "    concatenated_tensor = Concatenate(axis=1)(\n",
    "        [maxpool_0, maxpool_1, maxpool_2])\n",
    "    flatten = Flatten()(concatenated_tensor)\n",
    "    dropout = Dropout(drop)(flatten)\n",
    "    output = Dense(units=len(macronum), activation='sigmoid')(dropout)\n",
    "\n",
    "    model = Model(inputs=inputs, outputs=output)\n",
    "    adam = Adam(lr=1e-4, beta_1=0.9, beta_2=0.999, epsilon=1e-08, decay=0.0)\n",
    "\n",
    "    model.compile(optimizer=adam, loss='binary_crossentropy', metrics=['accuracy'])\n",
    "    \n",
    "    cp = ModelCheckpoint('model_cnn.hdf5',monitor='val_acc',verbose=1,save_best_only=True)\n",
    "    model.summary()\n",
    "\n",
    "    return (model, cp)"
   ]
  },
  {
   "cell_type": "code",
   "execution_count": 94,
   "metadata": {},
   "outputs": [],
   "source": [
    "def load_twenty_newsgroup():\n",
    "    categories_to_loads = ['alt.atheism', 'comp.graphics', 'comp.os.ms-windows.misc', 'comp.sys.ibm.pc.hardware', \n",
    "                           'comp.windows.x', 'misc.forsale', 'rec.autos', \n",
    "                           'rec.motorcycles', 'rec.sport.baseball', 'rec.sport.hockey', \n",
    "                           'sci.crypt', 'sci.electronics', 'sci.med', 'sci.space', \n",
    "                           'soc.religion.christian', 'talk.politics.guns', 'talk.politics.mideast', \n",
    "                           'talk.politics.misc', 'talk.religion.misc']\n",
    "    \n",
    "    newsgroups_train = fetch_20newsgroups(subset='all', categories=categories_to_loads, \n",
    "                                          remove=('headers', 'footers', 'quotes'))\n",
    "\n",
    "    df = pd.DataFrame([newsgroups_train.data, newsgroups_train.target.tolist()]).T    \n",
    "    df.columns = ['text', 'target']\n",
    "    \n",
    "    print(newsgroups_train.target_names)\n",
    "            \n",
    "    return (df['text'], df['target'])"
   ]
  },
  {
   "cell_type": "code",
   "execution_count": 95,
   "metadata": {},
   "outputs": [
    {
     "name": "stderr",
     "output_type": "stream",
     "text": [
      "[nltk_data] Downloading package stopwords to\n",
      "[nltk_data]     /Users/santonatos/nltk_data...\n",
      "[nltk_data]   Package stopwords is already up-to-date!\n"
     ]
    }
   ],
   "source": [
    "import nltk\n",
    "from nltk.corpus import stopwords\n",
    "\n",
    "nltk.download('stopwords')\n",
    "sw = set(stopwords.words('english'))\n",
    "    \n",
    "def preprocess_text(string):\n",
    "    string = re.sub(r\"\\\\\", \"\", string)\n",
    "    string = re.sub(r\"\\'\", \"\", string)\n",
    "    string = re.sub(r\"\\\"\", \"\", string)\n",
    "    \n",
    "    toks = string.split(' ')\n",
    "    clean_toks = list(filter(lambda x: x not in sw, toks))\n",
    "    \n",
    "    string = ' '.join(clean_toks)\n",
    "    \n",
    "    return string.strip().lower()\n"
   ]
  },
  {
   "cell_type": "code",
   "execution_count": 96,
   "metadata": {},
   "outputs": [],
   "source": [
    "import json\n",
    "\n",
    "def load_yahoo():\n",
    "    \n",
    "    texts = []\n",
    "    labels = []\n",
    "    \n",
    "    label_dict = {}\n",
    "    label_idx = 0\n",
    "    \n",
    "    with open('yahoo.json') as f:\n",
    "        for line in f:\n",
    "            j = json.loads(line)\n",
    "            content = j['content']\n",
    "            annotated_labels = j['annotation']['label']\n",
    "            \n",
    "            if len(annotated_labels) == 1:\n",
    "                texts.append(content)\n",
    "                label_str = annotated_labels[0]\n",
    "                \n",
    "                target = None\n",
    "                if label_str in label_dict:\n",
    "                    target = label_dict[label_str]\n",
    "                else:\n",
    "                    label_dict[label_str] = label_idx\n",
    "                    target = label_idx\n",
    "                    label_idx += 1\n",
    "                    \n",
    "                labels.append(target)\n",
    "    \n",
    "    return (texts, labels)"
   ]
  },
  {
   "cell_type": "code",
   "execution_count": 97,
   "metadata": {},
   "outputs": [],
   "source": [
    "def load_data(data_ref):\n",
    "\n",
    "    data_ref_dict = { \n",
    "        'yahoo': load_yahoo,\n",
    "        '20news': load_twenty_newsgroup\n",
    "    }\n",
    "    \n",
    "    texts, labels = data_ref_dict[data_ref]() #load_twenty_newsgroup()\n",
    "  \n",
    "    texts = list(map(preprocess_text, texts)) #df['text'].apply(preprocess_text)\n",
    "    \n",
    "    macronum=sorted(set(labels))\n",
    "    \n",
    "    print(macronum)\n",
    "    \n",
    "    tokenizer = Tokenizer(num_words=MAX_NB_WORDS)\n",
    "    tokenizer.fit_on_texts(texts)\n",
    "    sequences = tokenizer.texts_to_sequences(texts)\n",
    "\n",
    "    word_index = tokenizer.word_index\n",
    "    print('Number of Unique Tokens',len(word_index))\n",
    "\n",
    "    data = pad_sequences(sequences, maxlen=MAX_SEQUENCE_LENGTH)\n",
    "\n",
    "    labels = to_categorical(np.asarray(labels))\n",
    "    print('Shape of Data Tensor:', data.shape)\n",
    "    print('Shape of Label Tensor:', labels.shape)\n",
    "\n",
    "    indices = np.arange(data.shape[0])\n",
    "    np.random.shuffle(indices)\n",
    "    data = data[indices]\n",
    "    labels = labels[indices]\n",
    "    nb_validation_samples = int(VALIDATION_SPLIT * data.shape[0])\n",
    "\n",
    "    x_train = data[:-nb_validation_samples]\n",
    "    y_train = labels[:-nb_validation_samples]\n",
    "    x_val = data[-nb_validation_samples:]\n",
    "    y_val = labels[-nb_validation_samples:]\n",
    "    \n",
    "    return (x_train, y_train, x_val, y_val, word_index, macronum)"
   ]
  },
  {
   "cell_type": "code",
   "execution_count": 98,
   "metadata": {},
   "outputs": [
    {
     "name": "stdout",
     "output_type": "stream",
     "text": [
      "Total 400000 word vectors in glove.6B.100d.txt\n"
     ]
    }
   ],
   "source": [
    "embeddings_filename = 'glove.6B.' + str(EMBEDDING_DIM) + 'd.txt'\n",
    "embeddings_index = load_embeddings(embeddings_filename)"
   ]
  },
  {
   "cell_type": "code",
   "execution_count": 103,
   "metadata": {},
   "outputs": [
    {
     "name": "stdout",
     "output_type": "stream",
     "text": [
      "['alt.atheism', 'comp.graphics', 'comp.os.ms-windows.misc', 'comp.sys.ibm.pc.hardware', 'comp.windows.x', 'misc.forsale', 'rec.autos', 'rec.motorcycles', 'rec.sport.baseball', 'rec.sport.hockey', 'sci.crypt', 'sci.electronics', 'sci.med', 'sci.space', 'soc.religion.christian', 'talk.politics.guns', 'talk.politics.mideast', 'talk.politics.misc', 'talk.religion.misc']\n",
      "[0, 1, 2, 3, 4, 5, 6, 7, 8, 9, 10, 11, 12, 13, 14, 15, 16, 17, 18]\n",
      "Number of Unique Tokens 133146\n",
      "Shape of Data Tensor: (17883, 1000)\n",
      "Shape of Label Tensor: (17883, 19)\n"
     ]
    }
   ],
   "source": [
    "x_train, y_train, x_val, y_val, word_index, macronum = load_data('20news')"
   ]
  },
  {
   "cell_type": "code",
   "execution_count": 106,
   "metadata": {},
   "outputs": [
    {
     "name": "stdout",
     "output_type": "stream",
     "text": [
      "[0, 1, 2, 3, 4, 5, 6, 7, 8, 9, 10, 11, 12, 13, 14, 15, 16, 17, 18]\n",
      "__________________________________________________________________________________________________\n",
      "Layer (type)                    Output Shape         Param #     Connected to                     \n",
      "==================================================================================================\n",
      "input_17 (InputLayer)           (None, 1000)         0                                            \n",
      "__________________________________________________________________________________________________\n",
      "embedding_18 (Embedding)        (None, 1000, 100)    13314700    input_17[0][0]                   \n",
      "__________________________________________________________________________________________________\n",
      "reshape_9 (Reshape)             (None, 1000, 100, 1) 0           embedding_18[0][0]               \n",
      "__________________________________________________________________________________________________\n",
      "conv2d_19 (Conv2D)              (None, 999, 1, 256)  51456       reshape_9[0][0]                  \n",
      "__________________________________________________________________________________________________\n",
      "conv2d_20 (Conv2D)              (None, 998, 1, 256)  77056       reshape_9[0][0]                  \n",
      "__________________________________________________________________________________________________\n",
      "conv2d_21 (Conv2D)              (None, 996, 1, 256)  128256      reshape_9[0][0]                  \n",
      "__________________________________________________________________________________________________\n",
      "max_pooling2d_19 (MaxPooling2D) (None, 1, 1, 256)    0           conv2d_19[0][0]                  \n",
      "__________________________________________________________________________________________________\n",
      "max_pooling2d_20 (MaxPooling2D) (None, 1, 1, 256)    0           conv2d_20[0][0]                  \n",
      "__________________________________________________________________________________________________\n",
      "max_pooling2d_21 (MaxPooling2D) (None, 1, 1, 256)    0           conv2d_21[0][0]                  \n",
      "__________________________________________________________________________________________________\n",
      "concatenate_7 (Concatenate)     (None, 3, 1, 256)    0           max_pooling2d_19[0][0]           \n",
      "                                                                 max_pooling2d_20[0][0]           \n",
      "                                                                 max_pooling2d_21[0][0]           \n",
      "__________________________________________________________________________________________________\n",
      "flatten_13 (Flatten)            (None, 768)          0           concatenate_7[0][0]              \n",
      "__________________________________________________________________________________________________\n",
      "dropout_7 (Dropout)             (None, 768)          0           flatten_13[0][0]                 \n",
      "__________________________________________________________________________________________________\n",
      "dense_19 (Dense)                (None, 19)           14611       dropout_7[0][0]                  \n",
      "==================================================================================================\n",
      "Total params: 13,586,079\n",
      "Trainable params: 13,586,079\n",
      "Non-trainable params: 0\n",
      "__________________________________________________________________________________________________\n"
     ]
    }
   ],
   "source": [
    "print(macronum)\n",
    "embedding_layer = create_embedding_layer(word_index, embeddings_index)\n",
    "model, cp = create_model(embedding_layer, macronum)"
   ]
  },
  {
   "cell_type": "code",
   "execution_count": 107,
   "metadata": {},
   "outputs": [
    {
     "name": "stdout",
     "output_type": "stream",
     "text": [
      "Train on 14307 samples, validate on 3576 samples\n",
      "Epoch 1/5\n",
      "14307/14307 [==============================] - 211s 15ms/step - loss: 0.3641 - acc: 0.8724 - val_loss: 0.2112 - val_acc: 0.9474\n",
      "\n",
      "Epoch 00001: val_acc improved from -inf to 0.94737, saving model to model_cnn.hdf5\n",
      "Epoch 2/5\n",
      "14307/14307 [==============================] - 215s 15ms/step - loss: 0.2231 - acc: 0.9468 - val_loss: 0.1997 - val_acc: 0.9474\n",
      "\n",
      "Epoch 00002: val_acc did not improve from 0.94737\n",
      "Epoch 3/5\n",
      "14307/14307 [==============================] - 234s 16ms/step - loss: 0.2107 - acc: 0.9470 - val_loss: 0.1893 - val_acc: 0.9474\n",
      "\n",
      "Epoch 00003: val_acc did not improve from 0.94737\n",
      "Epoch 4/5\n",
      "14307/14307 [==============================] - 227s 16ms/step - loss: 0.2009 - acc: 0.9470 - val_loss: 0.1808 - val_acc: 0.9474\n",
      "\n",
      "Epoch 00004: val_acc improved from 0.94737 to 0.94738, saving model to model_cnn.hdf5\n",
      "Epoch 5/5\n",
      "14307/14307 [==============================] - 222s 16ms/step - loss: 0.1911 - acc: 0.9474 - val_loss: 0.1728 - val_acc: 0.9475\n",
      "\n",
      "Epoch 00005: val_acc improved from 0.94738 to 0.94749, saving model to model_cnn.hdf5\n"
     ]
    }
   ],
   "source": [
    "history = model.fit(x_train, y_train, validation_data=(x_val, y_val),epochs=5, batch_size=256, callbacks=[cp])"
   ]
  },
  {
   "cell_type": "code",
   "execution_count": 108,
   "metadata": {},
   "outputs": [
    {
     "data": {
      "image/png": "[encoded data removed]",
      "text/plain": [
       "<Figure size 432x288 with 1 Axes>"
      ]
     },
     "metadata": {
      "needs_background": "light"
     },
     "output_type": "display_data"
    }
   ],
   "source": [
    "fig2=plt.figure()\n",
    "plt.plot(history.history['acc'],'r',linewidth=3.0)\n",
    "plt.plot(history.history['val_acc'],'b',linewidth=3.0)\n",
    "plt.legend(['Training Accuracy', 'Validation Accuracy'],fontsize=18)\n",
    "plt.xlabel('Epochs ',fontsize=16)\n",
    "plt.ylabel('Accuracy',fontsize=16)\n",
    "plt.title('Accuracy Curves : CNN',fontsize=16)\n",
    "fig2.savefig('accuracy_cnn.png')\n",
    "plt.show()"
   ]
  },
  {
   "cell_type": "code",
   "execution_count": null,
   "metadata": {},
   "outputs": [],
   "source": []
  },
  {
   "cell_type": "code",
   "execution_count": null,
   "metadata": {},
   "outputs": [],
   "source": []
  }
 ],
 "metadata": {
  "kernelspec": {
   "display_name": "Python 3",
   "language": "python",
   "name": "python3"
  },
  "language_info": {
   "codemirror_mode": {
    "name": "ipython",
    "version": 3
   },
   "file_extension": ".py",
   "mimetype": "text/x-python",
   "name": "python",
   "nbconvert_exporter": "python",
   "pygments_lexer": "ipython3",
   "version": "3.7.2"
  }
 },
 "nbformat": 4,
 "nbformat_minor": 2
}
